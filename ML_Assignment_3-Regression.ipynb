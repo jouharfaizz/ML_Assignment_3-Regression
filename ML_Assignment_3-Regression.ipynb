{
 "cells": [
  {
   "cell_type": "code",
   "execution_count": 1,
   "id": "be897186-b914-48c0-81a3-c5b96a8584ab",
   "metadata": {},
   "outputs": [],
   "source": [
    "import pandas as pd\n",
    "import numpy as np\n",
    "from sklearn.datasets import fetch_california_housing\n",
    "from sklearn.preprocessing import StandardScaler"
   ]
  },
  {
   "cell_type": "code",
   "execution_count": 2,
   "id": "ee7f4eee-3880-4e28-afe6-83b2100102d9",
   "metadata": {},
   "outputs": [],
   "source": [
    "housing_data = fetch_california_housing()\n",
    "df = pd.DataFrame(housing_data.data, columns=housing_data.feature_names)\n",
    "df['Target'] = housing_data.target"
   ]
  },
  {
   "cell_type": "code",
   "execution_count": 3,
   "id": "b67ed6dc-b219-47e8-be23-21aa9e68cf90",
   "metadata": {},
   "outputs": [],
   "source": [
    "# Standardize the features\n",
    "scaler = StandardScaler()\n",
    "scaled_features = scaler.fit_transform(df.drop('Target', axis=1))\n",
    "\n",
    "df_scaled = pd.DataFrame(scaled_features, columns=housing_data.feature_names)\n",
    "df_scaled['Target'] = df['Target']"
   ]
  },
  {
   "cell_type": "code",
   "execution_count": 4,
   "id": "71be28e2-0ec3-4816-8da7-0065123e68a3",
   "metadata": {},
   "outputs": [
    {
     "name": "stdout",
     "output_type": "stream",
     "text": [
      "Preprocessing Steps: \n",
      "1. Loaded the dataset.\n",
      "2. Converted to DataFrame for easy manipulation.\n",
      "3. Checked and confirmed no missing values.\n",
      "4. Standardized the features using StandardScaler.\n"
     ]
    }
   ],
   "source": [
    "# Describe preprocessing steps\n",
    "print(\"Preprocessing Steps: \")\n",
    "print(\"1. Loaded the dataset.\")\n",
    "print(\"2. Converted to DataFrame for easy manipulation.\")\n",
    "print(\"3. Checked and confirmed no missing values.\")\n",
    "print(\"4. Standardized the features using StandardScaler.\")"
   ]
  },
  {
   "cell_type": "code",
   "execution_count": 5,
   "id": "7eaa1980-b259-46e1-95f6-6c38996405f4",
   "metadata": {},
   "outputs": [],
   "source": [
    "from sklearn.model_selection import train_test_split\n",
    "from sklearn.linear_model import LinearRegression\n",
    "from sklearn.tree import DecisionTreeRegressor\n",
    "from sklearn.ensemble import RandomForestRegressor, GradientBoostingRegressor\n",
    "from sklearn.svm import SVR"
   ]
  },
  {
   "cell_type": "code",
   "execution_count": 6,
   "id": "a8e9404d-a089-44ec-a4a0-495e0a734b90",
   "metadata": {},
   "outputs": [],
   "source": [
    "X = df_scaled.drop('Target', axis=1)\n",
    "y = df_scaled['Target']\n",
    "X_train, X_test, y_train, y_test = train_test_split(X, y, test_size=0.2, random_state=42)\n"
   ]
  },
  {
   "cell_type": "markdown",
   "id": "76025517-73f8-42e0-b891-490c26d2f73c",
   "metadata": {},
   "source": [
    "Linear Regression: Fits a linear equation to the dataset. Suitable for datasets with a linear relationship between features and target.\n",
    "\n",
    "Decision Tree Regressor: Splits data into regions for predictions. Handles non-linear relationships well.\n",
    "\n",
    "Random Forest Regressor: Uses multiple decision trees to reduce overfitting. Suitable for complex datasets.\n",
    "\n",
    "Gradient Boosting Regressor: Builds models sequentially to correct errors. Effective on complex data.\n",
    "\n",
    "SVR: Tries to fit the best line within a threshold around the actual points. Good for non-linear relationships."
   ]
  },
  {
   "cell_type": "code",
   "execution_count": 7,
   "id": "b583c7ba-38e3-443e-9b2f-f69a89489ea3",
   "metadata": {},
   "outputs": [
    {
     "name": "stdout",
     "output_type": "stream",
     "text": [
      "Linear Regression trained and predicted.\n",
      "Decision Tree Regressor trained and predicted.\n",
      "Random Forest Regressor trained and predicted.\n",
      "Gradient Boosting Regressor trained and predicted.\n",
      "Support Vector Regressor (SVR) trained and predicted.\n"
     ]
    }
   ],
   "source": [
    "# Initialize models\n",
    "models = {\n",
    "    \"Linear Regression\": LinearRegression(),\n",
    "    \"Decision Tree Regressor\": DecisionTreeRegressor(),\n",
    "    \"Random Forest Regressor\": RandomForestRegressor(),\n",
    "    \"Gradient Boosting Regressor\": GradientBoostingRegressor(),\n",
    "    \"Support Vector Regressor (SVR)\": SVR()\n",
    "}\n",
    "\n",
    "# Train and evaluate each model\n",
    "for name, model in models.items():\n",
    "    model.fit(X_train, y_train)\n",
    "    predictions = model.predict(X_test)\n",
    "    print(f\"{name} trained and predicted.\")"
   ]
  },
  {
   "cell_type": "code",
   "execution_count": 8,
   "id": "319bd574-52a1-483f-9980-c7308e936bee",
   "metadata": {},
   "outputs": [],
   "source": [
    "from sklearn.metrics import mean_squared_error, mean_absolute_error, r2_score\n"
   ]
  },
  {
   "cell_type": "code",
   "execution_count": 9,
   "id": "4261cddf-e916-4b0f-9c0b-7bf05e2325fd",
   "metadata": {},
   "outputs": [],
   "source": [
    "# Evaluate each model\n",
    "evaluation_metrics = {}\n",
    "for name, model in models.items():\n",
    "    predictions = model.predict(X_test)\n",
    "    mse = mean_squared_error(y_test, predictions)\n",
    "    mae = mean_absolute_error(y_test, predictions)\n",
    "    r2 = r2_score(y_test, predictions)\n",
    "    evaluation_metrics[name] = {'MSE': mse, 'MAE': mae, 'R²': r2}\n"
   ]
  },
  {
   "cell_type": "code",
   "execution_count": 10,
   "id": "0ce2be51-b768-48d3-99f0-5dcb571aca4a",
   "metadata": {},
   "outputs": [
    {
     "name": "stdout",
     "output_type": "stream",
     "text": [
      "\n",
      "Linear Regression:\n",
      "MSE: 0.5558915986952442\n",
      "MAE: 0.5332001304956565\n",
      "R²: 0.575787706032451\n",
      "\n",
      "Decision Tree Regressor:\n",
      "MSE: 0.4844127956291909\n",
      "MAE: 0.451308316375969\n",
      "R²: 0.6303346484397037\n",
      "\n",
      "Random Forest Regressor:\n",
      "MSE: 0.25674808471529464\n",
      "MAE: 0.3280718902131784\n",
      "R²: 0.8040702643384245\n",
      "\n",
      "Gradient Boosting Regressor:\n",
      "MSE: 0.2940804571354899\n",
      "MAE: 0.3717234163505605\n",
      "R²: 0.7755811643398038\n",
      "\n",
      "Support Vector Regressor (SVR):\n",
      "MSE: 0.3551984619989419\n",
      "MAE: 0.3977630963437859\n",
      "R²: 0.7289407597956462\n"
     ]
    }
   ],
   "source": [
    "# Display evaluation results\n",
    "for model, metrics in evaluation_metrics.items():\n",
    "    print(f\"\\n{model}:\")\n",
    "    for metric, value in metrics.items():\n",
    "        print(f\"{metric}: {value}\")\n"
   ]
  },
  {
   "cell_type": "code",
   "execution_count": 11,
   "id": "ebbf1c96-3a7b-4d28-9c4e-a3398ebdcb25",
   "metadata": {},
   "outputs": [
    {
     "name": "stdout",
     "output_type": "stream",
     "text": [
      "\n",
      "Best Model: Random Forest Regressor\n",
      "Worst Model: Linear Regression\n"
     ]
    }
   ],
   "source": [
    "best_model = min(evaluation_metrics, key=lambda x: evaluation_metrics[x]['MSE'])\n",
    "worst_model = max(evaluation_metrics, key=lambda x: evaluation_metrics[x]['MSE'])\n",
    "print(f\"\\nBest Model: {best_model}\")\n",
    "print(f\"Worst Model: {worst_model}\")"
   ]
  }
 ],
 "metadata": {
  "kernelspec": {
   "display_name": "Python 3 (ipykernel)",
   "language": "python",
   "name": "python3"
  },
  "language_info": {
   "codemirror_mode": {
    "name": "ipython",
    "version": 3
   },
   "file_extension": ".py",
   "mimetype": "text/x-python",
   "name": "python",
   "nbconvert_exporter": "python",
   "pygments_lexer": "ipython3",
   "version": "3.12.4"
  }
 },
 "nbformat": 4,
 "nbformat_minor": 5
}
